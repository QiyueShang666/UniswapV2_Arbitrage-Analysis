{
 "cells": [
  {
   "cell_type": "code",
   "execution_count": 1,
   "id": "8fdac635-59d3-48a7-96c6-91881fd2fa61",
   "metadata": {},
   "outputs": [],
   "source": [
    "import pandas as pd \n",
    "import networkx as nx\n",
    "import matplotlib.pyplot as plt\n",
    "import math\n",
    "import time\n",
    "import networkx as nx\n",
    "import random\n",
    "from tqdm import tqdm"
   ]
  },
  {
   "cell_type": "code",
   "execution_count": 8,
   "id": "c6937045-91b2-4fec-b925-c873bfeae183",
   "metadata": {},
   "outputs": [],
   "source": [
    "df=pd.read_csv('/srv/abacus-1/uniswapv2_TY_23/UniswapV2_daily_snapshot_sync_18012051_with_price.csv')"
   ]
  },
  {
   "cell_type": "code",
   "execution_count": 3,
   "id": "89a30da7-63dd-4024-a5dd-f6a672c109ab",
   "metadata": {},
   "outputs": [],
   "source": [
    "# Confirm the type of data\n",
    "if data['price'].dtype != float:\n",
    "    data['price'] = data['price'].astype(float)"
   ]
  },
  {
   "cell_type": "code",
   "execution_count": 6,
   "id": "18dcaaaf-5d34-4d19-8bb1-566724bfa068",
   "metadata": {},
   "outputs": [],
   "source": [
    "# Update the network creation function to ensure reserve data is in float type\n",
    "def create_network_with_float_constraints(data):\n",
    "    G = nx.DiGraph()\n",
    "    for _, row in data.iterrows():\n",
    "        # Convert reserves to float\n",
    "        reserve0 = float(row['reserve0'])\n",
    "        reserve1 = float(row['reserve1'])\n",
    "        # Add vertices (tokens)\n",
    "        G.add_node(row['token0.id'])\n",
    "        G.add_node(row['token1.id'])\n",
    "\n",
    "        # Add an edge from token0 to token1 with price and additional attributes\n",
    "        forward_edge_attributes = {\n",
    "            'price': 1 / row['price'] if row['price'] != 0 else 0,\n",
    "            'reserve': reserve1,  # reserve of token1 for token0 to token1 edge\n",
    "            'block_number': row['block_number'],\n",
    "            'transactionIndex': row['transactionIndex'],\n",
    "            'log_index': row['log_index']\n",
    "        } \n",
    "        G.add_edge(row['token0.id'], row['token1.id'], **forward_edge_attributes)\n",
    "\n",
    "        # Add the reverse edge from token1 to token0 with the inverse price\n",
    "        reverse_edge_attributes = {\n",
    "            'price': row['price'],\n",
    "            'reserve': reserve0,  # reserve of token0 for token1 to token0 edge\n",
    "            'block_number': row['block_number'],\n",
    "            'transactionIndex': row['transactionIndex'],\n",
    "            'log_index': row['log_index']\n",
    "        }\n",
    "        G.add_edge(row['token1.id'], row['token0.id'], **reverse_edge_attributes)\n",
    "\n",
    "    return G\n"
   ]
  },
  {
   "cell_type": "code",
   "execution_count": 9,
   "id": "c0f150a3-56a9-48ba-a30d-682729d7c80d",
   "metadata": {},
   "outputs": [
    {
     "name": "stdout",
     "output_type": "stream",
     "text": [
      "['DAI' 'WETH' 1646.7063621819773]\n",
      "['DAI' 'ENVT' 2.721282212561712e+17]\n",
      "['ENVT' 'WETH' 4.4808245074109306e+17]\n"
     ]
    }
   ],
   "source": [
    "block_number_list=[18012030,16282783,16503307]\n",
    "transactionIndex=[120,29,51]\n",
    "log_index=[335,184,84]\n",
    "# block_number_list=[16516403,12580295,18010651]\n",
    "# transactionIndex=[39,264,111]\n",
    "# log_index=[95,134,219]\n",
    "#写一个函数，用这些参数，返回路径\n",
    "list1=[]\n",
    "def get_path(block_number,transactionIndex,log_index):\n",
    "    return df[(df['block_number']==block_number)&(df['transactionIndex']==transactionIndex)&(df['log_index']==log_index)][['token0.symbol','token1.symbol','price']].values[0]\n",
    "for i in range(3):\n",
    "    print(get_path(block_number_list[i],transactionIndex[i],log_index[i]))\n",
    "    list1.append(list(get_path(block_number_list[i],transactionIndex[i],log_index[i])))"
   ]
  },
  {
   "cell_type": "code",
   "execution_count": 10,
   "id": "cca076a9-f4a9-4374-adf2-84d63c87b467",
   "metadata": {},
   "outputs": [
    {
     "name": "stdout",
     "output_type": "stream",
     "text": [
      "DAI WETH\n",
      "ENVT ENVT\n"
     ]
    },
    {
     "data": {
      "text/plain": [
       "{('WETH',\n",
       "  'DAI'): Text(0.24999996274709668, 0.43301271829021687, '1646.7063621819773'),\n",
       " ('DAI', 'ENVT'): Text(-0.5, -9.934107536579972e-09, '3.6747383104328525e-18'),\n",
       " ('ENVT',\n",
       "  'WETH'): Text(0.2500000372529033, -0.43301270835610933, '2.2317321250722468e-18')}"
      ]
     },
     "execution_count": 10,
     "metadata": {},
     "output_type": "execute_result"
    },
    {
     "data": {
      "image/png": "[encoded data removed]",
      "text/plain": [
       "<Figure size 432x288 with 1 Axes>"
      ]
     },
     "metadata": {},
     "output_type": "display_data"
    }
   ],
   "source": [
    "# list1=[['WETH' ,'DOGFUND' ,1000000000000001.0],['eMax' ,'DOGFUND' ,7.23030945724e-05],['eMax' ,'WETH' ,1395218483490.5652]]\n",
    "import networkx as nx\n",
    "G=nx.DiGraph()\n",
    "start_token='WETH'\n",
    "for i in list1:\n",
    "    if i==list1[0]:\n",
    "        if i[0]==start_token:\n",
    "            G.add_edge(i[0],i[1],weight=1/i[2])\n",
    "            last_token=i[1]\n",
    "        else:\n",
    "            G.add_edge(i[1],i[0],weight=i[2])\n",
    "            last_token=i[0]\n",
    "    else:\n",
    "        #检查 i[0] 是否和上一个 i[1] 相等，如果相等,则 i[0]和 i[1] 顺序不变，否则，i[0]和 i[1] 顺序颠倒\n",
    "        if i[0]==last_token:\n",
    "            print(i[0],list1[list1.index(i)-1][1])\n",
    "            G.add_edge(i[0],i[1],weight=1/i[2])\n",
    "            last_token=i[1]\n",
    "        else:\n",
    "            G.add_edge(i[1],i[0],weight=i[2])\n",
    "            last_token=i[0]\n",
    "#可视化路径和边的权重\n",
    "import matplotlib.pyplot as plt\n",
    "#换一个布局\n",
    "pos=nx.circular_layout(G)\n",
    "nx.draw(G,pos,with_labels=True)\n",
    "labels = nx.get_edge_attributes(G,'weight')\n",
    "nx.draw_networkx_edge_labels(G,pos,edge_labels=labels)"
   ]
  },
  {
   "cell_type": "code",
   "execution_count": 11,
   "id": "a1072063-1d65-4800-a24d-4fd117934254",
   "metadata": {},
   "outputs": [
    {
     "data": {
      "text/plain": [
       "1.350469081111165e-32"
      ]
     },
     "execution_count": 11,
     "metadata": {},
     "output_type": "execute_result"
    }
   ],
   "source": [
    "prices=[]\n",
    "for edge in G.edges():\n",
    "    prices.append(G.edges[edge]['weight'])\n",
    "#prices 里面的元素相乘\n",
    "from functools import reduce\n",
    "reduce(lambda x,y:x*y,prices)"
   ]
  },
  {
   "cell_type": "code",
   "execution_count": 12,
   "id": "de9aaa23-71c8-4627-80de-d46211e56ba5",
   "metadata": {},
   "outputs": [
    {
     "data": {
      "text/plain": [
       "{('WETH',\n",
       "  'ENVT'): Text(0.2500000372529033, -0.43301270835610933, '4.4808245074109306e+17'),\n",
       " ('DAI',\n",
       "  'WETH'): Text(0.24999996274709668, 0.43301271829021687, '0.0006072728101171264'),\n",
       " ('ENVT', 'DAI'): Text(-0.5, -9.934107536579972e-09, '2.721282212561712e+17')}"
      ]
     },
     "execution_count": 12,
     "metadata": {},
     "output_type": "execute_result"
    },
    {
     "data": {
      "image/png": "[encoded data removed]",
      "text/plain": [
       "<Figure size 432x288 with 1 Axes>"
      ]
     },
     "metadata": {},
     "output_type": "display_data"
    }
   ],
   "source": [
    "#将边的方向反转，边的权重取倒数\n",
    "G1=G.reverse()\n",
    "#可视化路径和边的权重\n",
    "import matplotlib.pyplot as plt\n",
    "#换一个布局\n",
    "pos=nx.circular_layout(G1)\n",
    "nx.draw(G1,pos,with_labels=True)\n",
    "labels = nx.get_edge_attributes(G1,'weight')\n",
    "labels={k:1/v for k,v in labels.items()}\n",
    "nx.draw_networkx_edge_labels(G1,pos,edge_labels=labels)"
   ]
  },
  {
   "cell_type": "code",
   "execution_count": null,
   "id": "0d871a91-1d77-4022-a4a9-c237f7f531a5",
   "metadata": {},
   "outputs": [],
   "source": []
  }
 ],
 "metadata": {
  "kernelspec": {
   "display_name": "Python 3 (ipykernel)",
   "language": "python",
   "name": "python3"
  },
  "language_info": {
   "codemirror_mode": {
    "name": "ipython",
    "version": 3
   },
   "file_extension": ".py",
   "mimetype": "text/x-python",
   "name": "python",
   "nbconvert_exporter": "python",
   "pygments_lexer": "ipython3",
   "version": "3.9.2"
  }
 },
 "nbformat": 4,
 "nbformat_minor": 5
}
